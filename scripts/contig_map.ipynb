{
 "cells": [
  {
   "cell_type": "code",
   "execution_count": 6,
   "metadata": {},
   "outputs": [
    {
     "name": "stdout",
     "output_type": "stream",
     "text": [
      "匹配的Contig ID数量: 30\n",
      "匹配的Contig ID列表:\n",
      "k141_27380\n",
      "k141_151732\n",
      "k141_158385\n",
      "k141_185487\n",
      "k141_225435\n",
      "k141_256403\n",
      "k141_271923\n",
      "k141_416655\n",
      "k141_418896\n",
      "k141_424377\n",
      "k141_570538\n",
      "k141_596950\n",
      "k141_707082\n",
      "k141_726346\n",
      "k141_749905\n",
      "k141_817761\n",
      "k141_846029\n",
      "k141_867152\n",
      "k141_908994\n",
      "k141_941563\n",
      "k141_967232\n",
      "k141_1032894\n",
      "k141_1044458\n",
      "k141_1108565\n",
      "k141_1149986\n",
      "k141_1205338\n",
      "k141_1263739\n",
      "k141_1341157\n",
      "k141_1426468\n",
      "k141_1431490\n"
     ]
    }
   ],
   "source": [
    "import pandas as pd\n",
    "from Bio import SeqIO\n",
    "\n",
    "# 1. 读取TSV文件，提取Contig列中ARG_prediction不为\"-\"的ID\n",
    "tsv_file = \"/storage/jufengLab/luogaoyang/metagenome_project/DSR/cpr_result/CompRanking_S0PP.contigs_AMR_MOB_prediction.tsv\"  # 替换为你的TSV文件路径\n",
    "tsv_file =\"/storage/jufengLab/luogaoyang/metagenome_project/DSR/cpr_result/CompRanking_S0PCL.contigs_AMR_MOB_prediction.tsv\"\n",
    "tsv_file =\"/storage/jufengLab/luogaoyang/metagenome_project/DSR/cpr_result/CompRanking_S0WE.contigs_AMR_MOB_prediction.tsv\"\n",
    "df = pd.read_csv(tsv_file, sep='\\t')\n",
    "\n",
    "# 筛选ARG_prediction列不为\"-\"的行，提取Contig ID\n",
    "contig_ids = df[df['ARG_prediction'] != '-']['Contig'].tolist()\n",
    "\n",
    "# 2. 读取FASTA文件，提取所有序列ID\n",
    "fasta_file = \"/storage/jufengLab/luogaoyang/metagenome_project/DSR/metabinner/output/S1WE/metabinner_res/unitem_profile/kmeans_length_weight_X_t_logtrans_result.tsv_bins/0.fa\"  # 替换为你的FASTA文件路径\n",
    "fasta_ids = [record.id for record in SeqIO.parse(fasta_file, \"fasta\")]\n",
    "\n",
    "# 3. 匹配Contig ID和FASTA ID\n",
    "matching_ids = [contig_id for contig_id in contig_ids if contig_id in fasta_ids]\n",
    "\n",
    "# 输出匹配结果\n",
    "print(f\"匹配的Contig ID数量: {len(matching_ids)}\")\n",
    "print(\"匹配的Contig ID列表:\")\n",
    "for match in matching_ids:\n",
    "    print(match)"
   ]
  }
 ],
 "metadata": {
  "kernelspec": {
   "display_name": "biopython",
   "language": "python",
   "name": "python3"
  },
  "language_info": {
   "codemirror_mode": {
    "name": "ipython",
    "version": 3
   },
   "file_extension": ".py",
   "mimetype": "text/x-python",
   "name": "python",
   "nbconvert_exporter": "python",
   "pygments_lexer": "ipython3",
   "version": "3.11.7"
  }
 },
 "nbformat": 4,
 "nbformat_minor": 2
}
