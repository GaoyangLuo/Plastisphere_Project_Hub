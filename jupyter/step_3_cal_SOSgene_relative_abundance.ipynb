{
 "cells": [
  {
   "cell_type": "code",
   "execution_count": 1,
   "metadata": {},
   "outputs": [
    {
     "name": "stderr",
     "output_type": "stream",
     "text": [
      "/tmp/ipykernel_3532843/2246111565.py:2: DeprecationWarning: \n",
      "Pyarrow will become a required dependency of pandas in the next major release of pandas (pandas 3.0),\n",
      "(to allow more performant data types, such as the Arrow string type, and better interoperability with other libraries)\n",
      "but was not found to be installed on your system.\n",
      "If this would cause problems for you,\n",
      "please provide us feedback at https://github.com/pandas-dev/pandas/issues/54466\n",
      "        \n",
      "  import pandas as pd\n"
     ]
    },
    {
     "name": "stdout",
     "output_type": "stream",
     "text": [
      "Abundance table saved to /storage/jufengLab/luogaoyang/metagenome_project/DSR/4_annotation/ROS_gene_mmseq_contig_level_out/sustech_gene_out/filter_m8/with_rpkg_contig/abundance_table.csv\n"
     ]
    }
   ],
   "source": [
    "import os\n",
    "import pandas as pd\n",
    "\n",
    "rpkm_type='contig' #contig or fna\n",
    "\n",
    "# 预定义的基因列表及其顺序\n",
    "genes_list = [\n",
    "    'katE', 'oxyR', 'sodA', 'sodB', 'soxR', 'ahpC', 'dps', 'SulA', 'recA', 'lexA', 'uvrA', \n",
    "    'umuC', 'umuD', 'ompA', 'ompC', 'ttgC', 'ttgB', 'ttgA', 'tolC', 'acrB', 'acrA'\n",
    "]\n",
    "path2filterm8=\"/storage/jufengLab/luogaoyang/metagenome_project/DSR/4_annotation/ROS_gene_mmseq_contig_level_out/sustech_gene_out/filter_m8\"\n",
    "# 定义文件路径\n",
    "input_directory = os.path.join(path2filterm8,\"with_rpkg_\"+rpkm_type)\n",
    "\n",
    "# 创建一个空的 DataFrame，用于存储 abundance 表格\n",
    "abundance_df = pd.DataFrame()\n",
    "\n",
    "# 遍历 with_rpkg 目录中的所有文件\n",
    "for filename in os.listdir(input_directory):\n",
    "    if filename.endswith(\".txt\") or filename.endswith(\".csv\"):  # 假设文件是以 .txt 或 .csv 结尾\n",
    "        # 获取文件的完整路径\n",
    "        file_path = os.path.join(input_directory, filename)\n",
    "\n",
    "        # 读取文件 (假设文件中已经有表头)\n",
    "        m8_df = pd.read_csv(file_path, sep=\"\\t\")\n",
    "\n",
    "        # 确保文件包含必要的列\n",
    "        if 'Gene' not in m8_df.columns or 'Sample' not in m8_df.columns or 'RPKG' not in m8_df.columns:\n",
    "            print(f\"File {filename} is missing required columns. Skipping...\")\n",
    "            continue\n",
    "\n",
    "        # 分组计算每个样本中每个基因的平均 RPKG 值\n",
    "        avg_rpkg_df = m8_df.groupby(['Sample', 'Gene'])['RPKG'].mean().reset_index()\n",
    "\n",
    "        # 将数据透视为 Sample 为行，Gene 为列，RPKG 为值的形式\n",
    "        pivot_df = avg_rpkg_df.pivot(index='Sample', columns='Gene', values='RPKG')\n",
    "\n",
    "        # 确保每个样本都包含所有基因，缺失的基因填充 0\n",
    "        pivot_df = pivot_df.reindex(columns=genes_list, fill_value=0)\n",
    "\n",
    "        # 将当前文件的内容合并到总的 abundance_df 中\n",
    "        abundance_df = pd.concat([abundance_df, pivot_df], axis=0)\n",
    "\n",
    "# 对 abundance_df 进行聚合，确保同一个 Sample 的基因值合并并且平均\n",
    "abundance_df = abundance_df.groupby(abundance_df.index).mean()\n",
    "\n",
    "# 将 NaN 值替换为 0 (保险起见)\n",
    "abundance_df.fillna(0, inplace=True)\n",
    "\n",
    "# 保存结果到 CSV 文件\n",
    "output_file = os.path.join(input_directory, \"abundance_table.csv\")\n",
    "abundance_df.to_csv(output_file)\n",
    "\n",
    "print(f\"Abundance table saved to {output_file}\")"
   ]
  },
  {
   "cell_type": "code",
   "execution_count": null,
   "metadata": {},
   "outputs": [],
   "source": []
  },
  {
   "cell_type": "code",
   "execution_count": null,
   "metadata": {},
   "outputs": [],
   "source": []
  },
  {
   "cell_type": "code",
   "execution_count": null,
   "metadata": {},
   "outputs": [],
   "source": []
  }
 ],
 "metadata": {
  "kernelspec": {
   "display_name": "biopython",
   "language": "python",
   "name": "python3"
  },
  "language_info": {
   "codemirror_mode": {
    "name": "ipython",
    "version": 3
   },
   "file_extension": ".py",
   "mimetype": "text/x-python",
   "name": "python",
   "nbconvert_exporter": "python",
   "pygments_lexer": "ipython3",
   "version": "3.11.7"
  }
 },
 "nbformat": 4,
 "nbformat_minor": 2
}
