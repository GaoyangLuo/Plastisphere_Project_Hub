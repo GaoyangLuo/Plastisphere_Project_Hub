{
 "cells": [
  {
   "cell_type": "code",
   "execution_count": null,
   "metadata": {},
   "outputs": [],
   "source": [
    "import pandas as pd"
   ]
  },
  {
   "cell_type": "code",
   "execution_count": null,
   "metadata": {},
   "outputs": [],
   "source": [
    "input_mobileOG=''\n",
    "\n",
    "df_MobileOG=pd.read_csv(input_mobileOG, sep=\"\\t\", header=None)\n",
    "df_MobileOG.columns=['id', 'sub_id', 'identity', 'alignLen', 'mismat', 'gapOpens', 'qStart', 'qEnd', 'sStart', 'sEnd', 'eval', 'bit']\n",
    "#处理分列\n",
    "df_MobileOG_tmp=df_MobileOG[\"sub_id\"].str.split(\"|\",expand=True)\n",
    "df_MobileOG_tmp\n",
    "if df_MobileOG_tmp.shape[1] < 7:\n",
    "    if df_MobileOG_tmp.shape[1] == 5:\n",
    "        df_MobileOG_tmp[5]=\"-\"\n",
    "    if df_MobileOG_tmp.shape[1] == 6:\n",
    "        df_MobileOG_tmp[6] = \"-\"\n",
    "# df_MobileOG_tmp[5]=\"-\"\n",
    "df_MobileOG_tmp=df_MobileOG_tmp[[0,1,3,4,5]]\n",
    "df_MobileOG_tmp.columns=[\"mobileOG_ID\", \"Gene_Name\", \"Taxonomy\",\"Major_Category\",\"MGE_Database\"]\n",
    "\n",
    "df_MobileOG_concat=pd.concat((df_MobileOG,df_MobileOG_tmp),axis=1)"
   ]
  }
 ],
 "metadata": {
  "kernelspec": {
   "display_name": "biopython",
   "language": "python",
   "name": "python3"
  },
  "language_info": {
   "name": "python",
   "version": "3.11.7"
  }
 },
 "nbformat": 4,
 "nbformat_minor": 2
}
