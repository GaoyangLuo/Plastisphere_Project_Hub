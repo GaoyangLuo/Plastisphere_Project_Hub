{
 "cells": [
  {
   "cell_type": "code",
   "execution_count": null,
   "metadata": {},
   "outputs": [],
   "source": [
    "import os\n",
    "import pandas as pd\n",
    "\n",
    "# 文件路径\n",
    "ko_results_dir = \"/storage/jufengLab/luogaoyang/metagenome_project/DSR/4_annotation/KO_scan_out/filtered_results\"\n",
    "kegg_pathway_table = \"/storage/jufengLab/luogaoyang/db/KO/KEGG_ko.txt\"\n",
    "rpkg_dir = \"/storage/jufengLab/luogaoyang/metagenome_project/DSR/PRKG/fna\"\n",
    "output_dir = \"/storage/jufengLab/luogaoyang/metagenome_project/DSR/combined_results\"\n",
    "\n",
    "# 创建输出目录（如果不存在）\n",
    "os.makedirs(output_dir, exist_ok=True)\n",
    "\n",
    "# 读取 KEGG Pathway 表\n",
    "kegg_df = pd.read_csv(kegg_pathway_table, sep=\"\\t\", header=None, names=[\n",
    "    \"Category_A\", \"Category_B\", \"Pathway_ID\", \"KO\", \"Gene_Name\", \"Description\", \"EC\"])\n",
    "\n",
    "# 遍历过滤后的 KO 注释结果\n",
    "for ko_file in os.listdir(ko_results_dir):\n",
    "    if ko_file.endswith(\".txt\"):\n",
    "        ko_file_path = os.path.join(ko_results_dir, ko_file)\n",
    "        sample_name = ko_file.replace(\".contigs_5M_contigs_fna2faa_koScan_out.txt\", \"\")\n",
    "\n",
    "        # 读取 KO 注释结果\n",
    "        ko_df = pd.read_csv(ko_file_path, sep=\"\\s+\", header=None, names=[\n",
    "            \"Gene_Name\", \"KO\", \"Threshold\", \"Score\", \"E-value\", \"KO_Definition\"])\n",
    "\n",
    "        # 合并 KO 注释结果和 KEGG Pathway 表，按 KO 列进行映射\n",
    "        merged_df = pd.merge(ko_df, kegg_df, on=\"KO\", how=\"left\")\n",
    "\n",
    "        # 读取对应的 RPKG 文件\n",
    "        rpkg_file = os.path.join(rpkg_dir, f\"{sample_name}_RPKG.csv\")\n",
    "        if os.path.exists(rpkg_file):\n",
    "            rpkg_df = pd.read_csv(rpkg_file)\n",
    "\n",
    "            # 合并 RPKG 数据和注释结果，按基因名 (Gene_Name) 匹配\n",
    "            final_df = pd.merge(merged_df, rpkg_df, left_on=\"Gene_Name\", right_on=\"#Name\", how=\"left\")\n",
    "        else:\n",
    "            print(f\"RPKG 文件未找到：{rpkg_file}\")\n",
    "            continue\n",
    "\n",
    "        # 保存结果\n",
    "        output_file = os.path.join(output_dir, f\"{sample_name}_combined_results.csv\")\n",
    "        final_df.to_csv(output_file, index=False)\n",
    "        print(f\"处理完成：{ko_file} -> {output_file}\")\n",
    "\n",
    "print(f\"所有文件均已处理完成，结果保存在 {output_dir}\")"
   ]
  },
  {
   "cell_type": "code",
   "execution_count": null,
   "metadata": {},
   "outputs": [],
   "source": []
  },
  {
   "cell_type": "code",
   "execution_count": null,
   "metadata": {},
   "outputs": [],
   "source": []
  }
 ],
 "metadata": {
  "kernelspec": {
   "display_name": "biopython",
   "language": "python",
   "name": "python3"
  },
  "language_info": {
   "name": "python",
   "version": "3.11.7"
  }
 },
 "nbformat": 4,
 "nbformat_minor": 2
}
