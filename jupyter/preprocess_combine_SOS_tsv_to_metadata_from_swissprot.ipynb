{
 "cells": [
  {
   "cell_type": "code",
   "execution_count": 1,
   "metadata": {},
   "outputs": [
    {
     "name": "stderr",
     "output_type": "stream",
     "text": [
      "/tmp/ipykernel_638988/2694902781.py:2: DeprecationWarning: \n",
      "Pyarrow will become a required dependency of pandas in the next major release of pandas (pandas 3.0),\n",
      "(to allow more performant data types, such as the Arrow string type, and better interoperability with other libraries)\n",
      "but was not found to be installed on your system.\n",
      "If this would cause problems for you,\n",
      "please provide us feedback at https://github.com/pandas-dev/pandas/issues/54466\n",
      "        \n",
      "  import pandas as pd\n"
     ]
    },
    {
     "name": "stdout",
     "output_type": "stream",
     "text": [
      "所有文件已成功合并并保存为 /storage/jufengLab/luogaoyang/db/SOS_ROS_gene_full/combined_metadata.tsv\n"
     ]
    }
   ],
   "source": [
    "import os\n",
    "import pandas as pd\n",
    "\n",
    "# 指定TSV文件所在的目录\n",
    "directory = \"/storage/jufengLab/luogaoyang/db/SOS_ROS_gene_full/subfiles\"\n",
    "\n",
    "# 创建一个空的列表来存储所有文件的数据\n",
    "dataframes = []\n",
    "\n",
    "# 遍历目录中的所有文件\n",
    "for filename in os.listdir(directory):\n",
    "    if filename.endswith(\".tsv\"):\n",
    "        # 获取文件的完整路径\n",
    "        file_path = os.path.join(directory, filename)\n",
    "        \n",
    "        # 提取基因缩写（假设文件名格式为 `uniprotkb_gene_<GENE>_AND_reviewed_...`)\n",
    "        gene_name = filename.split(\"_\")[2]\n",
    "        \n",
    "        # 读取TSV文件\n",
    "        df = pd.read_csv(file_path, sep='\\t')\n",
    "        \n",
    "        # 在DataFrame中添加一列，用于存储基因缩写\n",
    "        df['Gene'] = gene_name\n",
    "        \n",
    "        # 将这个DataFrame添加到列表中\n",
    "        dataframes.append(df)\n",
    "\n",
    "# 将所有DataFrame合并成一个大的DataFrame\n",
    "combined_df = pd.concat(dataframes, ignore_index=True)\n",
    "\n",
    "# 将合并后的数据保存为一个新的TSV文件\n",
    "output_file = \"/storage/jufengLab/luogaoyang/db/SOS_ROS_gene_full/combined_metadata.tsv\"\n",
    "combined_df.to_csv(output_file, sep='\\t', index=False)\n",
    "\n",
    "print(f\"所有文件已成功合并并保存为 {output_file}\")"
   ]
  }
 ],
 "metadata": {
  "kernelspec": {
   "display_name": "biopython",
   "language": "python",
   "name": "python3"
  },
  "language_info": {
   "codemirror_mode": {
    "name": "ipython",
    "version": 3
   },
   "file_extension": ".py",
   "mimetype": "text/x-python",
   "name": "python",
   "nbconvert_exporter": "python",
   "pygments_lexer": "ipython3",
   "version": "3.11.7"
  }
 },
 "nbformat": 4,
 "nbformat_minor": 2
}
