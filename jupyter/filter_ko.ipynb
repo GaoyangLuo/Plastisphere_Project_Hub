{
 "cells": [
  {
   "cell_type": "code",
   "execution_count": null,
   "metadata": {},
   "outputs": [
    {
     "name": "stdout",
     "output_type": "stream",
     "text": [
      "处理完成：S1WOOD.contigs_5M_contigs_fna2faa_koScan_out.txt -> /storage/jufengLab/luogaoyang/metagenome_project/DSR/4_annotation/KO_scan_out/filtered_results_tsv/S1WOOD.contigs_5M_contigs_fna2faa_koScan_out.txt\n"
     ]
    }
   ],
   "source": [
    "import os\n",
    "\n",
    "# 文件夹路径\n",
    "input_dir = \"/storage/jufengLab/luogaoyang/metagenome_project/DSR/4_annotation/KO_scan_out\"\n",
    "output_dir = os.path.join(input_dir, \"filtered_results_tsv\")\n",
    "\n",
    "# 创建输出文件夹（如果不存在）\n",
    "os.makedirs(output_dir, exist_ok=True)\n",
    "\n",
    "# 遍历文件夹中的所有 .txt 文件\n",
    "for filename in os.listdir(input_dir):\n",
    "    # 只处理以 .txt 结尾的文件，忽略其他文件\n",
    "    if filename.endswith(\".txt\"):\n",
    "        input_file = os.path.join(input_dir, filename)\n",
    "        output_file = os.path.join(output_dir, filename)\n",
    "\n",
    "        # 存储基因的最佳匹配\n",
    "        gene_best_match = {}\n",
    "\n",
    "        # 解析文件\n",
    "        with open(input_file, \"r\") as infile:\n",
    "            for line in infile:\n",
    "                # 跳过注释行\n",
    "                if line.startswith(\"#\") or line.strip() == \"\":\n",
    "                    continue\n",
    "                \n",
    "                # 提取列数据\n",
    "                columns = line.strip().split()\n",
    "                gene_name = columns[0]  # 基因名\n",
    "                ko = columns[1]         # KO 编号\n",
    "                threshold = columns[2]  # 阈值\n",
    "                score = float(columns[3])  # 分数\n",
    "                e_value = float(columns[4])  # E-value\n",
    "                ko_definition = \" \".join(columns[5:])  # KO 定义（可能包含空格）\n",
    "\n",
    "                # 过滤掉 E-value >= 1e-3 的条目\n",
    "                if e_value >= 1e-3:\n",
    "                    continue\n",
    "\n",
    "                # 如果基因名不存在或当前分数更高，则更新\n",
    "                if gene_name not in gene_best_match or score > gene_best_match[gene_name][\"score\"]:\n",
    "                    gene_best_match[gene_name] = {\n",
    "                        \"gene_name\": gene_name,\n",
    "                        \"ko\": ko,\n",
    "                        \"threshold\": threshold,\n",
    "                        \"score\": score,\n",
    "                        \"e_value\": e_value,\n",
    "                        \"ko_definition\": ko_definition\n",
    "                    }\n",
    "\n",
    "        # 写入结果到输出文件（制表符分隔）\n",
    "        with open(output_file, \"w\") as outfile:\n",
    "            # 写入表头\n",
    "            outfile.write(\"Gene_Name\\tKO\\tThreshold\\tScore\\tE-value\\tKO_Definition\\n\")\n",
    "            \n",
    "            # 写入每个基因的最佳匹配\n",
    "            for gene, data in gene_best_match.items():\n",
    "                outfile.write(\n",
    "                    f\"{data['gene_name']}\\t{data['ko']}\\t{data['threshold']}\\t{data['score']}\\t{data['e_value']}\\t{data['ko_definition']}\\n\"\n",
    "                )\n",
    "\n",
    "        print(f\"处理完成：{filename} -> {output_file}\")"
   ]
  },
  {
   "cell_type": "code",
   "execution_count": null,
   "metadata": {},
   "outputs": [],
   "source": []
  },
  {
   "cell_type": "code",
   "execution_count": null,
   "metadata": {},
   "outputs": [],
   "source": []
  }
 ],
 "metadata": {
  "kernelspec": {
   "display_name": "biopython",
   "language": "python",
   "name": "python3"
  },
  "language_info": {
   "codemirror_mode": {
    "name": "ipython",
    "version": 3
   },
   "file_extension": ".py",
   "mimetype": "text/x-python",
   "name": "python",
   "nbconvert_exporter": "python",
   "pygments_lexer": "ipython3",
   "version": "3.11.7"
  }
 },
 "nbformat": 4,
 "nbformat_minor": 2
}
